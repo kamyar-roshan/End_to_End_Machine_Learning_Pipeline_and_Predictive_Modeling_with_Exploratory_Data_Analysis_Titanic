{
 "cells": [
  {
   "cell_type": "code",
   "execution_count": null,
   "metadata": {},
   "outputs": [],
   "source": [
    "import pandas as pd\n",
    "import numpy as np\n",
    "import matplotlib.pyplot as plt\n",
    "import seaborn as sns\n",
    "from sklearn.preprocessing import OneHotEncoder, LabelEncoder, StandardScaler\n",
    "from sklearn.impute import KNNImputer, SimpleImputer\n",
    "from sklearn.experimental import enable_iterative_imputer\n",
    "from sklearn.impute import IterativeImputer\n",
    "from sklearn import preprocessing\n",
    "from sklearn.preprocessing import StandardScaler\n",
    "from sklearn.decomposition import PCA\n",
    "from sklearn.model_selection import train_test_split\n",
    "from sklearn.linear_model import LogisticRegression\n",
    "from sklearn.ensemble import RandomForestClassifier\n",
    "from sklearn.metrics import auc, accuracy_score, confusion_matrix\n",
    "from sklearn.model_selection import cross_val_score, GridSearchCV, KFold, RandomizedSearchCV\n",
    "from sklearn.metrics import roc_auc_score\n",
    "from sklearn.svm import SVC\n",
    "from sklearn.feature_selection import RFECV\n",
    "from sklearn.feature_selection import VarianceThreshold\n",
    "from sklearn.feature_selection import SelectKBest\n",
    "from sklearn.feature_selection import mutual_info_regression\n",
    "from sklearn.metrics import classification_report\n",
    "from sklearn.metrics import confusion_matrix\n",
    "from xgboost import XGBClassifier\n",
    "from sklearn.metrics import accuracy_score"
   ]
  },
  {
   "cell_type": "code",
   "execution_count": null,
   "metadata": {},
   "outputs": [],
   "source": [
    "data_tr = pd.read_csv('train.csv')\n",
    "data_ts = pd.read_csv('test.csv')\n",
    "pd.set_option('display.max_columns', None)\n",
    "pd.options.display.max_rows = 10\n",
    "y_tr = data_tr.iloc[:, 1]\n",
    "x_tr = data_tr.drop(columns='Survived')"
   ]
  },
  {
   "cell_type": "code",
   "execution_count": null,
   "metadata": {},
   "outputs": [],
   "source": [
    "x_tr.head(10)"
   ]
  },
  {
   "cell_type": "code",
   "execution_count": null,
   "metadata": {},
   "outputs": [],
   "source": [
    "x_tr.describe()"
   ]
  },
  {
   "cell_type": "code",
   "execution_count": null,
   "metadata": {},
   "outputs": [],
   "source": [
    "data_tr.boxplot(column='Age', by='Survived')"
   ]
  },
  {
   "cell_type": "code",
   "execution_count": null,
   "metadata": {},
   "outputs": [],
   "source": [
    "plt.figure(figsize=(30, 15))\n",
    "sns.heatmap(x_tr.isnull(), cbar=False)"
   ]
  },
  {
   "cell_type": "code",
   "execution_count": null,
   "metadata": {},
   "outputs": [],
   "source": [
    "x_tr.isnull().sum()"
   ]
  },
  {
   "cell_type": "code",
   "execution_count": null,
   "metadata": {},
   "outputs": [],
   "source": [
    "miss_thr = 0.25 * len(data_tr)\n",
    "x_tr = x_tr.dropna(thresh=miss_thr, axis=1)"
   ]
  },
  {
   "cell_type": "code",
   "execution_count": null,
   "metadata": {},
   "outputs": [],
   "source": [
    "x_tr = x_tr.drop(columns=['Name', 'Ticket', 'PassengerId'])\n",
    "x_tr.head(10)"
   ]
  },
  {
   "cell_type": "code",
   "execution_count": null,
   "metadata": {},
   "outputs": [],
   "source": [
    "x_tr.hist(figsize=(10,10))"
   ]
  },
  {
   "cell_type": "code",
   "execution_count": null,
   "metadata": {},
   "outputs": [],
   "source": [
    "y_tr.hist(figsize=(3,3))"
   ]
  },
  {
   "cell_type": "code",
   "execution_count": null,
   "metadata": {},
   "outputs": [],
   "source": [
    "sns.heatmap(abs(x_tr.corr()))"
   ]
  },
  {
   "cell_type": "code",
   "execution_count": null,
   "metadata": {},
   "outputs": [],
   "source": [
    "# x_tr.replace('NA', np.NaN)\n",
    "# week = {'Mon': 'Monday', 'Tue': 'Tuesday', 'Wed': 'Wednesday', 'Thur': 'Thursday', 'Fri': 'Friday', 'Sat': 'Saturday', 'Sun': 'Sunday'}\n",
    "# mapping_dic = {'x3': week}\n",
    "# cat_cols = cat_cols.replace(mapping_dic)\n",
    "# cat_cols['x7'] = cat_cols['x7'].str.rstrip('%').astype('float')"
   ]
  },
  {
   "cell_type": "code",
   "execution_count": null,
   "metadata": {},
   "outputs": [],
   "source": [
    "le = LabelEncoder()\n",
    "x_tr['Sex'] = le.fit_transform(x_tr['Sex'])\n",
    "x_tr.head(10)"
   ]
  },
  {
   "cell_type": "code",
   "execution_count": null,
   "metadata": {},
   "outputs": [],
   "source": [
    "# cat_cols = x_tr.select_dtypes(include='O')\n",
    "# num_cols = x_tr.select_dtypes(exclude='O')\n",
    "\n",
    "imputer = SimpleImputer(strategy='most_frequent')\n",
    "embarked = pd.DataFrame(x_tr['Embarked'])\n",
    "imputer.fit(embarked)\n",
    "x_tr['Embarked'] = pd.DataFrame(imputer.transform(pd.DataFrame(x_tr['Embarked'])), columns=['Embarked'])\n",
    "\n",
    "# from sklearn.preprocessing import OneHotEncoder, LabelEncoder, StandardScaler\n",
    "# le = LabelEncoder()\n",
    "# embarked = pd.DataFrame(le.fit_transform(embarked), columns=['Embarked'])\n",
    "# rfc = RandomForestClassifier(n_estimators=100, random_state=42)\n",
    "# rfc.fit(embarked, y_tr)\n",
    "# x_tr[x_tr['Embarked'].isnull()].drop('Embarked', axis=1)\n",
    "# x_tr['Embarked'][x_tr['Embarked'].isnull()] = rfc.predict(x_tr[x_tr['Embarked'].isnull()].drop('Embarked', axis=1))"
   ]
  },
  {
   "cell_type": "code",
   "execution_count": null,
   "metadata": {},
   "outputs": [],
   "source": [
    "ohe = OneHotEncoder()\n",
    "ohencoded = pd.DataFrame(ohe.fit_transform(pd.DataFrame(x_tr['Embarked'])).toarray(), columns=['S', 'C', 'Q'])\n",
    "x_tr = x_tr.drop(columns=['Embarked'])\n",
    "x_tr = pd.concat([x_tr, ohencoded], axis = 1)\n",
    "x_tr"
   ]
  },
  {
   "cell_type": "code",
   "execution_count": null,
   "metadata": {},
   "outputs": [],
   "source": [
    "x_tr.isnull().sum()"
   ]
  },
  {
   "cell_type": "code",
   "execution_count": null,
   "metadata": {},
   "outputs": [],
   "source": [
    "cols = x_tr.columns\n",
    "knn_imp = KNNImputer(n_neighbors=3)\n",
    "x_tr = pd.DataFrame(knn_imp.fit_transform(x_tr), columns=cols).astype('float')\n",
    "x_tr"
   ]
  },
  {
   "cell_type": "code",
   "execution_count": null,
   "metadata": {},
   "outputs": [],
   "source": [
    "scaler = StandardScaler()\n",
    "X_scaled = pd.DataFrame(scaler.fit_transform(x_tr), columns = cols)\n",
    "X_scaled"
   ]
  },
  {
   "cell_type": "code",
   "execution_count": null,
   "metadata": {},
   "outputs": [],
   "source": [
    "threshold = 0.1\n",
    "selector = VarianceThreshold(threshold)\n",
    "selector.fit(X_scaled)\n",
    "selected_indices = selector.get_support(indices=True)\n",
    "selected_indices\n",
    "X = X_scaled\n",
    "# X = X_scaled.drop(columns=['C'])"
   ]
  },
  {
   "cell_type": "code",
   "execution_count": null,
   "metadata": {},
   "outputs": [],
   "source": [
    "k = 6\n",
    "selector = SelectKBest(score_func=mutual_info_regression, k=k)\n",
    "x_best = pd.DataFrame(selector.fit_transform(X, y_tr))\n",
    "selected_features = [i for i, x in enumerate(selector.get_support()) if x]\n",
    "print(f\"Selected Features: {selected_features}\")\n",
    "x_best"
   ]
  },
  {
   "cell_type": "code",
   "execution_count": null,
   "metadata": {},
   "outputs": [],
   "source": [
    "X_train, X_val, y_train, y_val = train_test_split(x_best, y_tr, test_size=0.2, random_state=42)"
   ]
  },
  {
   "cell_type": "code",
   "execution_count": null,
   "metadata": {},
   "outputs": [],
   "source": [
    "LR = RFECV(LogisticRegression(max_iter=2000), scoring = 'roc_auc', n_jobs = -1, cv = 5, step = 5)\n",
    "LR.fit(X_train, y_train)\n",
    "LR_probs = LR.predict_proba(X_val)\n",
    "print('AUC: ', roc_auc_score(y_val, LR_probs[:,1]))\n",
    "print('Accuracy: ', LR.score(X_val, y_val))\n",
    "y_pred = LR.predict(X_val)\n",
    "print(classification_report(y_val, y_pred))\n",
    "cm = confusion_matrix(y_val, y_pred)\n",
    "sns.heatmap(cm, annot=True, fmt='d')"
   ]
  },
  {
   "cell_type": "code",
   "execution_count": null,
   "metadata": {},
   "outputs": [],
   "source": [
    "param_grid = {'C': [0.1, 1, 10], 'kernel': ['linear', 'rbf'], 'gamma': [0.1, 1, 10]}\n",
    "clf = SVC()\n",
    "grid_search = GridSearchCV(clf, param_grid, cv=5, scoring='accuracy')\n",
    "grid_search.fit(X_train, y_train)\n",
    "print(f\"Best Hyperparameters: {grid_search.best_params_}\")\n",
    "print(f\"Validation Score: {grid_search.best_score_}\")"
   ]
  },
  {
   "cell_type": "code",
   "execution_count": null,
   "metadata": {},
   "outputs": [],
   "source": [
    "clf = SVC(C=10, kernel='rbf', gamma=0.1)\n",
    "clf.fit(X_train, y_train)\n",
    "y_pred2 = clf.predict(X_val)\n",
    "cm = confusion_matrix(y_val, y_pred2)\n",
    "sns.heatmap(cm, annot=True, fmt='d')"
   ]
  },
  {
   "cell_type": "code",
   "execution_count": null,
   "metadata": {},
   "outputs": [],
   "source": [
    "param_grid = {'C': [0.1, 1, 10], 'kernel': ['linear', 'rbf'], 'gamma': [0.1, 1, 10]}\n",
    "clf = SVC()\n",
    "grid_search = GridSearchCV(clf, param_grid, cv=5, scoring='accuracy')\n",
    "grid_search.fit(X_train, y_train)\n",
    "print(f\"Best Hyperparameters: {grid_search.best_params_}\")\n",
    "print(f\"Validation Score: {grid_search.best_score_}\")\n",
    "clf = SVC(C=1, kernel='rbf')\n",
    "y_pred2 = clf.predict(X_val)\n",
    "cm = confusion_matrix(y_val, y_pred2)\n",
    "sns.heatmap(cm, annot=True, fmt='d')"
   ]
  },
  {
   "cell_type": "code",
   "execution_count": null,
   "metadata": {},
   "outputs": [],
   "source": [
    "xgb_model = XGBClassifier(learning_rate=0.1, max_depth=3, n_estimators=100, random_state=42)\n",
    "xgb_model.fit(X_train, y_train)\n",
    "y_pred3 = xgb_model.predict(X_val)\n",
    "accuracy = accuracy_score(y_val, y_pred3)\n",
    "print('Accuracy:', accuracy)\n",
    "cm = confusion_matrix(y_val, y_pred3)\n",
    "sns.heatmap(cm, annot=True, fmt='d')"
   ]
  }
 ],
 "metadata": {
  "kernelspec": {
   "display_name": "Python 3",
   "language": "python",
   "name": "python3"
  },
  "language_info": {
   "codemirror_mode": {
    "name": "ipython",
    "version": 3
   },
   "file_extension": ".py",
   "mimetype": "text/x-python",
   "name": "python",
   "nbconvert_exporter": "python",
   "pygments_lexer": "ipython3",
   "version": "3.9.6"
  },
  "orig_nbformat": 4
 },
 "nbformat": 4,
 "nbformat_minor": 2
}
